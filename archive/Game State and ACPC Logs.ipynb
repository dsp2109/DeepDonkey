{
 "cells": [
  {
   "cell_type": "code",
   "execution_count": 16,
   "metadata": {},
   "outputs": [],
   "source": [
    "import numpy as np"
   ]
  },
  {
   "cell_type": "markdown",
   "metadata": {},
   "source": [
    "Setting up game state"
   ]
  },
  {
   "cell_type": "code",
   "execution_count": 1,
   "metadata": {},
   "outputs": [],
   "source": [
    "#cards\n",
    "max_players = 10\n",
    "num_players = 2\n",
    "community_pool = 1 #might consider community cards as \"dealer\" along with pot\n",
    "suits = 4\n",
    "card_ranks = 13\n",
    "\n",
    "#rounds\n",
    "max_betting_rounds = 4 #pre-flop, flop, turn, river\n",
    "max_raises = 4\n",
    "\n",
    "#betting - won't see this in ACPC server text. Supposed to be known by program\n",
    "small_blind = 50\n",
    "big_blind = 100\n",
    "min_raise = 100 #big blind or minimum of previous raise/bet in same round\n",
    "\n",
    "stack_sizes = 20000 #could be a list for each player"
   ]
  },
  {
   "cell_type": "markdown",
   "metadata": {},
   "source": [
    "### Construction of game state"
   ]
  },
  {
   "cell_type": "markdown",
   "metadata": {},
   "source": [
    "Possibilities: one funnel for cards: [suit x rank x (players + community + dealer) x round] \n",
    "and one for actions / positions [players x rounds x max raises]\n",
    "...or throw it all in one? (players + community + dealer) x (suit x rank) x rounds x max raises. a 5D tensor.\n",
    "\n",
    "another option: Players (and dealer) x cards x rounds x action"
   ]
  },
  {
   "cell_type": "code",
   "execution_count": 2,
   "metadata": {},
   "outputs": [
    {
     "name": "stdout",
     "output_type": "stream",
     "text": [
      "2496\n"
     ]
    }
   ],
   "source": [
    "size = 3 * 4 * 13 * 4 * 4 #players x suits x rank x betting rounds x max number of raises \n",
    "print(size)"
   ]
  },
  {
   "cell_type": "markdown",
   "metadata": {},
   "source": [
    "What is a \"next\" state in poker for Q learning? Is it the next time an action opportunity occurs for the agent? I think yes\n",
    "but it could also mean next state of the game, not necessarily agent to act. Need to confirm, but I think next-action opportunity makes sense, because otherwise how would you know the maximum best next move from the target model?"
   ]
  },
  {
   "cell_type": "code",
   "execution_count": 3,
   "metadata": {},
   "outputs": [],
   "source": [
    "#you need to know the \"agent\" i.e. the hero\n",
    "hero = 0 #this is for one of the states, can also get the states for players up to num_players\n",
    "#could assign hero via position, or assign position via hero (agent)... I think I prefer assign position to agent.\n"
   ]
  },
  {
   "cell_type": "markdown",
   "metadata": {},
   "source": [
    "#### Parsing Logs"
   ]
  },
  {
   "cell_type": "code",
   "execution_count": 4,
   "metadata": {},
   "outputs": [
    {
     "ename": "TypeError",
     "evalue": "listdir() takes exactly 1 argument (0 given)",
     "output_type": "error",
     "traceback": [
      "\u001b[0;31m---------------------------------------------------------------------------\u001b[0m",
      "\u001b[0;31mTypeError\u001b[0m                                 Traceback (most recent call last)",
      "\u001b[0;32m<ipython-input-4-78ab606ecf2e>\u001b[0m in \u001b[0;36m<module>\u001b[0;34m()\u001b[0m\n\u001b[1;32m      1\u001b[0m \u001b[0;32mimport\u001b[0m \u001b[0mos\u001b[0m\u001b[0;34m\u001b[0m\u001b[0m\n\u001b[0;32m----> 2\u001b[0;31m \u001b[0mos\u001b[0m\u001b[0;34m.\u001b[0m\u001b[0mlistdir\u001b[0m\u001b[0;34m(\u001b[0m\u001b[0;34m)\u001b[0m\u001b[0;34m\u001b[0m\u001b[0m\n\u001b[0m",
      "\u001b[0;31mTypeError\u001b[0m: listdir() takes exactly 1 argument (0 given)"
     ]
    }
   ],
   "source": [
    "import os\n",
    "os.listdir()"
   ]
  },
  {
   "cell_type": "code",
   "execution_count": 5,
   "metadata": {},
   "outputs": [
    {
     "name": "stdout",
     "output_type": "stream",
     "text": [
      "['# name/game/hands/seed Intermission.PokerCNN.1.0 project_acpc_server/holdem.nolimit.2p.reverse_blinds.game 3000 3937880454', '#--t_response 600000', '#--t_hand 600000', '#--t_per_hand 7200', 'STATE:0:r200c/cr438f:6d2d|3s4d/KhJhTh:-200|200:Intermission_2pn_2017|PokerCNN_2pn_2017', 'STATE:1:r223c/cr383c/r1516f:Jd5c|Js8h/Qd6hQh/3c:383|-383:PokerCNN_2pn_2017|Intermission_2pn_2017', 'STATE:2:cr400f:Jc7c|9c5d:100|-100:Intermission_2pn_2017|PokerCNN_2pn_2017', 'STATE:3:r223f:Kc3d|Ah3h:-100|100:PokerCNN_2pn_2017|Intermission_2pn_2017', 'STATE:4:r261r908c/cr1689r4568f:KdJd|7sAs/JcTs7c:1689|-1689:Intermission_2pn_2017|PokerCNN_2pn_2017', 'STATE:5:r223c/cc/cc/cc:6h6s|As9d/Ks7h4c/6d/8s:223|-223:PokerCNN_2pn_2017|Intermission_2pn_2017']\n"
     ]
    }
   ],
   "source": [
    "logsPath = '2017 ACPC logs example/'\n",
    "fn = 'Intermission.PokerCNN.1.0.log'\n",
    "\n",
    "f = open(logsPath + fn, \"r\") #\n",
    "lines = f.readlines()\n",
    "f.close()\n",
    "lines = [line.strip() for line in lines]\n",
    "\n",
    "print(lines[0:10])"
   ]
  },
  {
   "cell_type": "code",
   "execution_count": 6,
   "metadata": {},
   "outputs": [
    {
     "name": "stdout",
     "output_type": "stream",
     "text": [
      "STATE:1:r223c/cr383c/r1516f:Jd5c|Js8h/Qd6hQh/3c:383|-383:PokerCNN_2pn_2017|Intermission_2pn_2017\n"
     ]
    }
   ],
   "source": [
    "print(lines[5])"
   ]
  },
  {
   "cell_type": "code",
   "execution_count": 42,
   "metadata": {},
   "outputs": [
    {
     "data": {
      "text/plain": [
       "['a', 1, 5, 1]"
      ]
     },
     "execution_count": 42,
     "metadata": {},
     "output_type": "execute_result"
    }
   ],
   "source": [
    "test_list = ['a',1, 5]\n",
    "test_list.append(1)\n",
    "test_list"
   ]
  },
  {
   "cell_type": "code",
   "execution_count": 48,
   "metadata": {},
   "outputs": [
    {
     "data": {
      "text/plain": [
       "False"
      ]
     },
     "execution_count": 48,
     "metadata": {},
     "output_type": "execute_result"
    }
   ],
   "source": [
    "test = []\n",
    "test != [] and test[-1]"
   ]
  },
  {
   "cell_type": "code",
   "execution_count": 64,
   "metadata": {},
   "outputs": [],
   "source": [
    "def parse_betting_round(action_string):\n",
    "    # 3 examples in a list: ['r223c', 'cr383c', 'r1516f']\n",
    "    round_actions = []\n",
    "    bet_size = ''\n",
    "    for char in action_string:\n",
    "        if char.isdigit():\n",
    "            bet_size += char\n",
    "        else:\n",
    "            if round_actions != [] and round_actions[-1] == 'r':\n",
    "                round_actions.append(bet_size)\n",
    "                bet_size = ''\n",
    "            if char == 'c':\n",
    "                round_actions.append('c')\n",
    "            elif char == 'r':\n",
    "                round_actions.append('r')\n",
    "            elif char == 'f':\n",
    "                round_actions.append('f')\n",
    "            else:\n",
    "                raise ValueError(\"invalid action input\")\n",
    "\n",
    "    return round_actions"
   ]
  },
  {
   "cell_type": "code",
   "execution_count": 67,
   "metadata": {},
   "outputs": [
    {
     "data": {
      "text/plain": [
       "['r', '20', 'c', 'r', '1516', 'f']"
      ]
     },
     "execution_count": 67,
     "metadata": {},
     "output_type": "execute_result"
    }
   ],
   "source": [
    "parse_betting_round('r20cr1516f')"
   ]
  },
  {
   "cell_type": "code",
   "execution_count": 76,
   "metadata": {},
   "outputs": [],
   "source": [
    "def bet_lists(br_list):\n",
    "    act = []\n",
    "    size_to = 0\n",
    "    round_actions = []\n",
    "    for a in br_list:\n",
    "        if a == 'c':\n",
    "            act = ['c', size_to]\n",
    "            round_actions.append(act)\n",
    "            act = []\n",
    "        elif a == 'f':\n",
    "            round_actions.append(['f', 0])\n",
    "        elif a == 'r':\n",
    "            act = ['r']\n",
    "        elif a.isdigit():\n",
    "            size_to = int(a)\n",
    "            act.append(size_to)\n",
    "            round_actions.append(act)\n",
    "            act = []\n",
    "    return round_actions"
   ]
  },
  {
   "cell_type": "code",
   "execution_count": 77,
   "metadata": {},
   "outputs": [
    {
     "data": {
      "text/plain": [
       "[['r', 20], ['c', 20], ['r', 1516], ['f', 0]]"
      ]
     },
     "execution_count": 77,
     "metadata": {},
     "output_type": "execute_result"
    }
   ],
   "source": [
    "bet_lists(parse_betting_round('r20cr1516f')) "
   ]
  },
  {
   "cell_type": "code",
   "execution_count": 121,
   "metadata": {},
   "outputs": [
    {
     "name": "stdout",
     "output_type": "stream",
     "text": [
      "['Jd5c', 'Js8h', 'Qd6hQh', '3c']\n",
      "[10, 2]\n",
      "['Qd', '6h', 'Qh']\n",
      "[[0, 0, 10, 2], [0, 0, 3, 3], [0, 1, 10, 0], [0, 1, 7, 1], [1, -1, 11, 2], [1, -1, 4, 1], [1, -1, 11, 1], [2, -1, 1, 3]]\n"
     ]
    }
   ],
   "source": [
    "suits = {'s':0 , 'h': 1, 'd': 2, 'c': 3}\n",
    "cardRanks =\\\n",
    "{\"2\": 0,\n",
    "\"3\": 1,\n",
    "\"4\": 2,\n",
    "\"5\":3,\n",
    "\"6\":4,\n",
    "\"A\":5,\n",
    "\"7\":6,\n",
    "\"8\":7,\n",
    "\"9\":8,\n",
    "\"10\":9,\n",
    "\"J\":10,\n",
    "\"Q\":11,\n",
    "\"K\":12,\n",
    "\"A\": 13}\n",
    "\n",
    "def split_cards(card_str):\n",
    "    #example is 'Jd5c|Js8h/Qd6hQh/3c'\n",
    "    s = card_str.split('|')\n",
    "    s = [s[0]]+  s[1].split('/')\n",
    "    return s\n",
    "\n",
    "def card_to_nums(card):\n",
    "    # returns rank, suit\n",
    "    return [cardRanks[card[0]], suits[card[1]]]\n",
    "\n",
    "def split_by_card(card_glob):\n",
    "    result = []\n",
    "    for i in range(0, len(card_glob), 2):\n",
    "        result.append(card_glob[i:i+2])\n",
    "    return result\n",
    "\n",
    "def parse_cards(card_str):\n",
    "    #splits cards and returns cards by [round, player, suit, rank] where for now community player = -1\n",
    "    cards = []\n",
    "    card_list = split_cards(card_str)\n",
    "    temp = [card_to_nums(x) for x in split_by_card(card_list[0])]\n",
    "    cards.append([0,0] + temp[0])\n",
    "    cards.append([0,0] + temp[1])\n",
    "    temp = [card_to_nums(x) for x in split_by_card(card_list[1])]\n",
    "    cards.append([0,1] + temp[0])\n",
    "    cards.append([0,1] + temp[1])\n",
    "    \n",
    "    if len(card_list) > 2:\n",
    "        for i in range(2,len(card_list)):\n",
    "            temp = [card_to_nums(x) for x in split_by_card(card_list[i])]\n",
    "            [cards.append([i-1,-1] + x) for x in temp]\n",
    "    return cards\n",
    "\n",
    "print(split_cards('Jd5c|Js8h/Qd6hQh/3c'))\n",
    "print(card_to_nums('Jd'))\n",
    "print(split_by_card(\"Qd6hQh\"))\n",
    "print(parse_cards('Jd5c|Js8h/Qd6hQh/3c'))"
   ]
  },
  {
   "cell_type": "code",
   "execution_count": 128,
   "metadata": {},
   "outputs": [],
   "source": [
    "def parse_handLog_line(line):\n",
    "    '''\n",
    "    example \"STATE:1:r223c/cr383c/r1516f:Jd5c|Js8h/Qd6hQh/3c:383|-383:PokerCNN_2pn_2017|Intermission_2pn_2017\"\n",
    "    see: http://www.computerpokercompetition.org/downloads/documents/protocols/protocol.pdf\n",
    "    '''\n",
    "    #line = line.strip() #should already be done in pre-processing\n",
    "    \n",
    "    player_pos = [] #player name and player position\n",
    "    actions = [] #action = [round, player_position, betting round, ante-flag]\n",
    "    cards = [] # cards = [round, player_position, rank, suit]\n",
    "    result = [] # result, to be used to check against function that calcs rewards - TODO:DELETE ONCE DEBUGGED\n",
    "    \n",
    "    parts = line.split(':')\n",
    "    #print(parts) \n",
    "    #['STATE', '1', 'r223c/cr383c/r1516f', 'Jd5c|Js8h/Qd6hQh/3c', '383|-383', 'PokerCNN_2pn_2017|Intermission_2pn_2017\\n']\n",
    "    \n",
    "    #player position, earlier in list means first to act\n",
    "    player_pos = parts[-1].split('|') #['PokerCNN_2pn_2017', 'Intermission_2pn_2017']\n",
    "    result = parts[-2].split('|') # ['383','-383']\n",
    "    result = [int(i) for i in result]\n",
    "    \n",
    "    cards = parse_cards(parts[3])\n",
    "    \n",
    "    actions_by_round = parts[2].split('/') #['r223c', 'cr383c', 'r1516f']\n",
    "    #action = [bet round, player_position, raising round, action, size_to, ante-flag]\n",
    "\n",
    "    #note that in first round for heads up, the positions reverse. \n",
    "    #essentially, antes are like a forced betting round: cr50r100, then go.\n",
    "    #Add a few betting rounds for antes?\n",
    "    ante_action1 = [0, 0, 0,'c',0, 1] # start hand\n",
    "    ante_action2 = [0, 1, 0,'r',50, 1] #small blind\n",
    "    ante_action3 = [0, 1, 1,'r', 100, 1] #big blind\n",
    "    \n",
    "    actions = [ante_action1, ante_action2, ante_action3]\n",
    "    no_players = len(player_pos)\n",
    "\n",
    "    #for each action\n",
    "    rd = 0\n",
    "    acting_player = 1\n",
    "    size_to = 100\n",
    "    bet_rd = 0 \n",
    "    \n",
    "    for betting_round in actions_by_round:\n",
    "        if bet_rd == 0: raise_rd = 1 \n",
    "        else: raise_rd = 0  # which turn of betting it is (4 max)\n",
    "        \n",
    "        round_actions = [] #to store actions each round\n",
    "        act = []\n",
    "        \n",
    "        betL = bet_lists(parse_betting_round(betting_round))\n",
    "        \n",
    "        for bet in betL:\n",
    "            act = [bet_rd, acting_player, raise_rd, bet[0], bet[1], 0]\n",
    "            if acting_player == no_players - 1:\n",
    "                raise_rd += 1\n",
    "                acting_player = 0\n",
    "            else: acting_player += 1\n",
    "            round_actions.append(act)\n",
    "        \n",
    "        [actions.append(i) for i in round_actions]\n",
    "        bet_rd +=1\n",
    "        acting_player = 0\n",
    "        \n",
    "    return player_pos, actions, cards, result "
   ]
  },
  {
   "cell_type": "code",
   "execution_count": 129,
   "metadata": {},
   "outputs": [
    {
     "data": {
      "text/plain": [
       "'STATE:1:r223c/cr383c/r1516f:Jd5c|Js8h/Qd6hQh/3c:383|-383:PokerCNN_2pn_2017|Intermission_2pn_2017'"
      ]
     },
     "execution_count": 129,
     "metadata": {},
     "output_type": "execute_result"
    }
   ],
   "source": [
    "lines[5]"
   ]
  },
  {
   "cell_type": "code",
   "execution_count": 130,
   "metadata": {},
   "outputs": [
    {
     "data": {
      "text/plain": [
       "(['PokerCNN_2pn_2017', 'Intermission_2pn_2017'],\n",
       " [[0, 0, 0, 'c', 0, 1],\n",
       "  [0, 1, 0, 'r', 50, 1],\n",
       "  [0, 1, 1, 'r', 100, 1],\n",
       "  [0, 1, 1, 'r', 223, 0],\n",
       "  [0, 0, 2, 'c', 223, 0],\n",
       "  [1, 0, 0, 'c', 0, 0],\n",
       "  [1, 1, 0, 'r', 383, 0],\n",
       "  [1, 0, 1, 'c', 383, 0],\n",
       "  [2, 0, 0, 'r', 1516, 0],\n",
       "  [2, 1, 0, 'f', 0, 0]],\n",
       " [[0, 0, 10, 2],\n",
       "  [0, 0, 3, 3],\n",
       "  [0, 1, 10, 0],\n",
       "  [0, 1, 7, 1],\n",
       "  [1, -1, 11, 2],\n",
       "  [1, -1, 4, 1],\n",
       "  [1, -1, 11, 1],\n",
       "  [2, -1, 1, 3]],\n",
       " [383, -383])"
      ]
     },
     "execution_count": 130,
     "metadata": {},
     "output_type": "execute_result"
    }
   ],
   "source": [
    "parse_handLog_line(lines[5])\n",
    "# first_action_other_than_antes = [0, 1, 1,'r', 223, 1] #how do I get this?"
   ]
  },
  {
   "cell_type": "code",
   "execution_count": null,
   "metadata": {},
   "outputs": [],
   "source": []
  }
 ],
 "metadata": {
  "kernelspec": {
   "display_name": "Python 2",
   "language": "python",
   "name": "python2"
  },
  "language_info": {
   "codemirror_mode": {
    "name": "ipython",
    "version": 2
   },
   "file_extension": ".py",
   "mimetype": "text/x-python",
   "name": "python",
   "nbconvert_exporter": "python",
   "pygments_lexer": "ipython2",
   "version": "2.7.14"
  }
 },
 "nbformat": 4,
 "nbformat_minor": 2
}
