{
 "cells": [
  {
   "cell_type": "code",
   "execution_count": 6,
   "metadata": {
    "collapsed": true
   },
   "outputs": [],
   "source": [
    "import numpy as np\n",
    "import pandas as pd\n",
    "#import tensorflow"
   ]
  },
  {
   "cell_type": "code",
   "execution_count": 7,
   "metadata": {
    "collapsed": false
   },
   "outputs": [],
   "source": [
    "#Load data\n",
    "hand_log = pd.read_pickle(\"../fiveLogs.pickle\")"
   ]
  },
  {
   "cell_type": "code",
   "execution_count": 39,
   "metadata": {
    "collapsed": false
   },
   "outputs": [
    {
     "data": {
      "text/html": [
       "<div>\n",
       "<table border=\"1\" class=\"dataframe\">\n",
       "  <thead>\n",
       "    <tr style=\"text-align: right;\">\n",
       "      <th></th>\n",
       "      <th>Players</th>\n",
       "      <th>Steps</th>\n",
       "      <th>Cards</th>\n",
       "      <th>Result</th>\n",
       "      <th>hand_index</th>\n",
       "    </tr>\n",
       "  </thead>\n",
       "  <tbody>\n",
       "    <tr>\n",
       "      <th>14994</th>\n",
       "      <td>[ElDonatoro_2pn_2017, ASHE_2pn_2017]</td>\n",
       "      <td>[[0, 0, 0, c, 0, 1], [0, 1, 0, r, 50, 1], [0, ...</td>\n",
       "      <td>[[0, 0, 2, 3], [0, 0, 2, 0], [0, 1, 0, 1], [0,...</td>\n",
       "      <td>[300, -300]</td>\n",
       "      <td>14994</td>\n",
       "    </tr>\n",
       "    <tr>\n",
       "      <th>14995</th>\n",
       "      <td>[ASHE_2pn_2017, ElDonatoro_2pn_2017]</td>\n",
       "      <td>[[0, 0, 0, c, 0, 1], [0, 1, 0, r, 50, 1], [0, ...</td>\n",
       "      <td>[[0, 0, 6, 2], [0, 0, 12, 1], [0, 1, 7, 2], [0...</td>\n",
       "      <td>[600, -600]</td>\n",
       "      <td>14995</td>\n",
       "    </tr>\n",
       "    <tr>\n",
       "      <th>14996</th>\n",
       "      <td>[ElDonatoro_2pn_2017, ASHE_2pn_2017]</td>\n",
       "      <td>[[0, 0, 0, c, 0, 1], [0, 1, 0, r, 50, 1], [0, ...</td>\n",
       "      <td>[[0, 0, 0, 1], [0, 0, 4, 1], [0, 1, 7, 0], [0,...</td>\n",
       "      <td>[200, -200]</td>\n",
       "      <td>14996</td>\n",
       "    </tr>\n",
       "    <tr>\n",
       "      <th>14997</th>\n",
       "      <td>[ASHE_2pn_2017, ElDonatoro_2pn_2017]</td>\n",
       "      <td>[[0, 0, 0, c, 0, 1], [0, 1, 0, r, 50, 1], [0, ...</td>\n",
       "      <td>[[0, 0, 7, 0], [0, 0, 6, 2], [0, 1, 1, 1], [0,...</td>\n",
       "      <td>[-100, 100]</td>\n",
       "      <td>14997</td>\n",
       "    </tr>\n",
       "    <tr>\n",
       "      <th>14998</th>\n",
       "      <td>[ElDonatoro_2pn_2017, ASHE_2pn_2017]</td>\n",
       "      <td>[[0, 0, 0, c, 0, 1], [0, 1, 0, r, 50, 1], [0, ...</td>\n",
       "      <td>[[0, 0, 0, 1], [0, 0, 1, 3], [0, 1, 12, 0], [0...</td>\n",
       "      <td>[-100, 100]</td>\n",
       "      <td>14998</td>\n",
       "    </tr>\n",
       "  </tbody>\n",
       "</table>\n",
       "</div>"
      ],
      "text/plain": [
       "                                    Players  \\\n",
       "14994  [ElDonatoro_2pn_2017, ASHE_2pn_2017]   \n",
       "14995  [ASHE_2pn_2017, ElDonatoro_2pn_2017]   \n",
       "14996  [ElDonatoro_2pn_2017, ASHE_2pn_2017]   \n",
       "14997  [ASHE_2pn_2017, ElDonatoro_2pn_2017]   \n",
       "14998  [ElDonatoro_2pn_2017, ASHE_2pn_2017]   \n",
       "\n",
       "                                                   Steps  \\\n",
       "14994  [[0, 0, 0, c, 0, 1], [0, 1, 0, r, 50, 1], [0, ...   \n",
       "14995  [[0, 0, 0, c, 0, 1], [0, 1, 0, r, 50, 1], [0, ...   \n",
       "14996  [[0, 0, 0, c, 0, 1], [0, 1, 0, r, 50, 1], [0, ...   \n",
       "14997  [[0, 0, 0, c, 0, 1], [0, 1, 0, r, 50, 1], [0, ...   \n",
       "14998  [[0, 0, 0, c, 0, 1], [0, 1, 0, r, 50, 1], [0, ...   \n",
       "\n",
       "                                                   Cards       Result  \\\n",
       "14994  [[0, 0, 2, 3], [0, 0, 2, 0], [0, 1, 0, 1], [0,...  [300, -300]   \n",
       "14995  [[0, 0, 6, 2], [0, 0, 12, 1], [0, 1, 7, 2], [0...  [600, -600]   \n",
       "14996  [[0, 0, 0, 1], [0, 0, 4, 1], [0, 1, 7, 0], [0,...  [200, -200]   \n",
       "14997  [[0, 0, 7, 0], [0, 0, 6, 2], [0, 1, 1, 1], [0,...  [-100, 100]   \n",
       "14998  [[0, 0, 0, 1], [0, 0, 1, 3], [0, 1, 12, 0], [0...  [-100, 100]   \n",
       "\n",
       "       hand_index  \n",
       "14994       14994  \n",
       "14995       14995  \n",
       "14996       14996  \n",
       "14997       14997  \n",
       "14998       14998  "
      ]
     },
     "execution_count": 39,
     "metadata": {},
     "output_type": "execute_result"
    }
   ],
   "source": [
    "hand_log.tail()"
   ]
  },
  {
   "cell_type": "code",
   "execution_count": 9,
   "metadata": {
    "collapsed": true
   },
   "outputs": [],
   "source": [
    "import constants"
   ]
  },
  {
   "cell_type": "code",
   "execution_count": 10,
   "metadata": {
    "collapsed": false
   },
   "outputs": [
    {
     "name": "stdout",
     "output_type": "stream",
     "text": [
      "{'A': 13, 'K': 12, 'J': 10, 'Q': 11, 'T': 9, '3': 1, '2': 0, '5': 3, '4': 2, '7': 6, '6': 4, '9': 8, '8': 7}\n",
      "{'h': 1, 's': 0, 'c': 3, 'd': 2}\n",
      "['__builtins__', '__doc__', '__file__', '__name__', '__package__', 'big_blind', 'cardRanks', 'card_ranks', 'community_pool', 'hero', 'max_betting_rounds', 'max_players', 'max_raises', 'min_raise', 'num_players', 'path', 'small_blind', 'stack_sizes', 'suits']\n"
     ]
    }
   ],
   "source": [
    "print(constants.cardRanks)\n",
    "print(constants.suits)\n",
    "print(dir(constants))"
   ]
  },
  {
   "cell_type": "code",
   "execution_count": 11,
   "metadata": {
    "collapsed": false
   },
   "outputs": [
    {
     "data": {
      "text/plain": [
       "Players    object\n",
       "Steps      object\n",
       "Cards      object\n",
       "Result     object\n",
       "dtype: object"
      ]
     },
     "execution_count": 11,
     "metadata": {},
     "output_type": "execute_result"
    }
   ],
   "source": [
    "hand_log.dtypes"
   ]
  },
  {
   "cell_type": "code",
   "execution_count": 12,
   "metadata": {
    "collapsed": false
   },
   "outputs": [
    {
     "data": {
      "text/plain": [
       "[[0, 0, 0, 'c', 0, 1],\n",
       " [0, 1, 0, 'r', 50, 1],\n",
       " [0, 1, 1, 'r', 100, 1],\n",
       " [0, 1, 1, 'r', 200, 0],\n",
       " [0, 0, 2, 'c', 200, 0],\n",
       " [1, 0, 0, 'r', 400, 0],\n",
       " [1, 1, 0, 'c', 400, 0],\n",
       " [2, 0, 0, 'r', 1200, 0],\n",
       " [2, 1, 0, 'c', 1200, 0],\n",
       " [3, 0, 0, 'r', 20000, 0],\n",
       " [3, 1, 0, 'c', 20000, 0]]"
      ]
     },
     "execution_count": 12,
     "metadata": {},
     "output_type": "execute_result"
    }
   ],
   "source": [
    "hand_log[\"Steps\"][0]\n",
    "#action = [bet round, player_position, raising round, action, size_to, ante-flag]"
   ]
  },
  {
   "cell_type": "code",
   "execution_count": 13,
   "metadata": {
    "collapsed": false
   },
   "outputs": [
    {
     "data": {
      "text/plain": [
       "[[0, 0, 4, 2],\n",
       " [0, 0, 0, 2],\n",
       " [0, 1, 1, 0],\n",
       " [0, 1, 2, 2],\n",
       " [1, -1, 12, 1],\n",
       " [1, -1, 10, 1],\n",
       " [1, -1, 9, 1],\n",
       " [2, -1, 8, 0],\n",
       " [3, -1, 4, 1]]"
      ]
     },
     "execution_count": 13,
     "metadata": {},
     "output_type": "execute_result"
    }
   ],
   "source": [
    "hand_log[\"Cards\"][0]\n",
    "#[round, player, rank, suit]\n",
    "#-1 player signifies community"
   ]
  },
  {
   "cell_type": "code",
   "execution_count": 14,
   "metadata": {
    "collapsed": false
   },
   "outputs": [
    {
     "data": {
      "text/plain": [
       "8.598306553770252"
      ]
     },
     "execution_count": 14,
     "metadata": {},
     "output_type": "execute_result"
    }
   ],
   "source": [
    "hand_log[\"Steps\"].apply(len).mean()"
   ]
  },
  {
   "cell_type": "code",
   "execution_count": 15,
   "metadata": {
    "collapsed": false
   },
   "outputs": [
    {
     "data": {
      "text/plain": [
       "6.828521901460097"
      ]
     },
     "execution_count": 15,
     "metadata": {},
     "output_type": "execute_result"
    }
   ],
   "source": [
    "hand_log[\"Cards\"].apply(len).mean()"
   ]
  },
  {
   "cell_type": "code",
   "execution_count": 16,
   "metadata": {
    "collapsed": false
   },
   "outputs": [
    {
     "data": {
      "text/html": [
       "<div>\n",
       "<table border=\"1\" class=\"dataframe\">\n",
       "  <thead>\n",
       "    <tr style=\"text-align: right;\">\n",
       "      <th></th>\n",
       "      <th>bet round</th>\n",
       "      <th>player_position</th>\n",
       "      <th>raising round</th>\n",
       "      <th>action</th>\n",
       "      <th>size_to</th>\n",
       "      <th>ante-flag</th>\n",
       "    </tr>\n",
       "  </thead>\n",
       "  <tbody>\n",
       "    <tr>\n",
       "      <th>0</th>\n",
       "      <td>0</td>\n",
       "      <td>0</td>\n",
       "      <td>0</td>\n",
       "      <td>c</td>\n",
       "      <td>0</td>\n",
       "      <td>1</td>\n",
       "    </tr>\n",
       "    <tr>\n",
       "      <th>1</th>\n",
       "      <td>0</td>\n",
       "      <td>1</td>\n",
       "      <td>0</td>\n",
       "      <td>r</td>\n",
       "      <td>50</td>\n",
       "      <td>1</td>\n",
       "    </tr>\n",
       "    <tr>\n",
       "      <th>2</th>\n",
       "      <td>0</td>\n",
       "      <td>1</td>\n",
       "      <td>1</td>\n",
       "      <td>r</td>\n",
       "      <td>100</td>\n",
       "      <td>1</td>\n",
       "    </tr>\n",
       "    <tr>\n",
       "      <th>3</th>\n",
       "      <td>0</td>\n",
       "      <td>1</td>\n",
       "      <td>1</td>\n",
       "      <td>r</td>\n",
       "      <td>200</td>\n",
       "      <td>0</td>\n",
       "    </tr>\n",
       "    <tr>\n",
       "      <th>4</th>\n",
       "      <td>0</td>\n",
       "      <td>0</td>\n",
       "      <td>2</td>\n",
       "      <td>c</td>\n",
       "      <td>200</td>\n",
       "      <td>0</td>\n",
       "    </tr>\n",
       "    <tr>\n",
       "      <th>5</th>\n",
       "      <td>1</td>\n",
       "      <td>0</td>\n",
       "      <td>0</td>\n",
       "      <td>r</td>\n",
       "      <td>400</td>\n",
       "      <td>0</td>\n",
       "    </tr>\n",
       "    <tr>\n",
       "      <th>6</th>\n",
       "      <td>1</td>\n",
       "      <td>1</td>\n",
       "      <td>0</td>\n",
       "      <td>c</td>\n",
       "      <td>400</td>\n",
       "      <td>0</td>\n",
       "    </tr>\n",
       "    <tr>\n",
       "      <th>7</th>\n",
       "      <td>2</td>\n",
       "      <td>0</td>\n",
       "      <td>0</td>\n",
       "      <td>r</td>\n",
       "      <td>1200</td>\n",
       "      <td>0</td>\n",
       "    </tr>\n",
       "    <tr>\n",
       "      <th>8</th>\n",
       "      <td>2</td>\n",
       "      <td>1</td>\n",
       "      <td>0</td>\n",
       "      <td>c</td>\n",
       "      <td>1200</td>\n",
       "      <td>0</td>\n",
       "    </tr>\n",
       "    <tr>\n",
       "      <th>9</th>\n",
       "      <td>3</td>\n",
       "      <td>0</td>\n",
       "      <td>0</td>\n",
       "      <td>r</td>\n",
       "      <td>20000</td>\n",
       "      <td>0</td>\n",
       "    </tr>\n",
       "    <tr>\n",
       "      <th>10</th>\n",
       "      <td>3</td>\n",
       "      <td>1</td>\n",
       "      <td>0</td>\n",
       "      <td>c</td>\n",
       "      <td>20000</td>\n",
       "      <td>0</td>\n",
       "    </tr>\n",
       "  </tbody>\n",
       "</table>\n",
       "</div>"
      ],
      "text/plain": [
       "    bet round  player_position  raising round action  size_to  ante-flag\n",
       "0           0                0              0      c        0          1\n",
       "1           0                1              0      r       50          1\n",
       "2           0                1              1      r      100          1\n",
       "3           0                1              1      r      200          0\n",
       "4           0                0              2      c      200          0\n",
       "5           1                0              0      r      400          0\n",
       "6           1                1              0      c      400          0\n",
       "7           2                0              0      r     1200          0\n",
       "8           2                1              0      c     1200          0\n",
       "9           3                0              0      r    20000          0\n",
       "10          3                1              0      c    20000          0"
      ]
     },
     "execution_count": 16,
     "metadata": {},
     "output_type": "execute_result"
    }
   ],
   "source": [
    "df_steps = pd.DataFrame(hand_log[\"Steps\"][0], columns = [\"bet round\", \"player_position\",\\\n",
    "                                               \"raising round\", \"action\", \"size_to\", \"ante-flag\"])\n",
    "df_steps"
   ]
  },
  {
   "cell_type": "code",
   "execution_count": 17,
   "metadata": {
    "collapsed": false,
    "scrolled": false
   },
   "outputs": [
    {
     "data": {
      "text/html": [
       "<div>\n",
       "<table border=\"1\" class=\"dataframe\">\n",
       "  <thead>\n",
       "    <tr style=\"text-align: right;\">\n",
       "      <th></th>\n",
       "      <th>bet round</th>\n",
       "      <th>player_position</th>\n",
       "      <th>rank</th>\n",
       "      <th>suit</th>\n",
       "    </tr>\n",
       "  </thead>\n",
       "  <tbody>\n",
       "    <tr>\n",
       "      <th>0</th>\n",
       "      <td>0</td>\n",
       "      <td>0</td>\n",
       "      <td>4</td>\n",
       "      <td>2</td>\n",
       "    </tr>\n",
       "    <tr>\n",
       "      <th>1</th>\n",
       "      <td>0</td>\n",
       "      <td>0</td>\n",
       "      <td>0</td>\n",
       "      <td>2</td>\n",
       "    </tr>\n",
       "    <tr>\n",
       "      <th>2</th>\n",
       "      <td>0</td>\n",
       "      <td>1</td>\n",
       "      <td>1</td>\n",
       "      <td>0</td>\n",
       "    </tr>\n",
       "    <tr>\n",
       "      <th>3</th>\n",
       "      <td>0</td>\n",
       "      <td>1</td>\n",
       "      <td>2</td>\n",
       "      <td>2</td>\n",
       "    </tr>\n",
       "    <tr>\n",
       "      <th>4</th>\n",
       "      <td>1</td>\n",
       "      <td>-1</td>\n",
       "      <td>12</td>\n",
       "      <td>1</td>\n",
       "    </tr>\n",
       "    <tr>\n",
       "      <th>5</th>\n",
       "      <td>1</td>\n",
       "      <td>-1</td>\n",
       "      <td>10</td>\n",
       "      <td>1</td>\n",
       "    </tr>\n",
       "    <tr>\n",
       "      <th>6</th>\n",
       "      <td>1</td>\n",
       "      <td>-1</td>\n",
       "      <td>9</td>\n",
       "      <td>1</td>\n",
       "    </tr>\n",
       "    <tr>\n",
       "      <th>7</th>\n",
       "      <td>2</td>\n",
       "      <td>-1</td>\n",
       "      <td>8</td>\n",
       "      <td>0</td>\n",
       "    </tr>\n",
       "    <tr>\n",
       "      <th>8</th>\n",
       "      <td>3</td>\n",
       "      <td>-1</td>\n",
       "      <td>4</td>\n",
       "      <td>1</td>\n",
       "    </tr>\n",
       "  </tbody>\n",
       "</table>\n",
       "</div>"
      ],
      "text/plain": [
       "   bet round  player_position  rank  suit\n",
       "0          0                0     4     2\n",
       "1          0                0     0     2\n",
       "2          0                1     1     0\n",
       "3          0                1     2     2\n",
       "4          1               -1    12     1\n",
       "5          1               -1    10     1\n",
       "6          1               -1     9     1\n",
       "7          2               -1     8     0\n",
       "8          3               -1     4     1"
      ]
     },
     "execution_count": 17,
     "metadata": {},
     "output_type": "execute_result"
    }
   ],
   "source": [
    "df_cards = pd.DataFrame(hand_log[\"Cards\"][0], columns=[\"bet round\", \"player_position\", \"rank\", \"suit\"])\n",
    "df_cards"
   ]
  },
  {
   "cell_type": "code",
   "execution_count": 18,
   "metadata": {
    "collapsed": false
   },
   "outputs": [],
   "source": [
    "hand_log[\"hand_index\"] = hand_log.index"
   ]
  },
  {
   "cell_type": "code",
   "execution_count": 19,
   "metadata": {
    "collapsed": false
   },
   "outputs": [],
   "source": [
    "num_steps = df_steps[df_steps[\"ante-flag\"]==0][\"ante-flag\"].count()\n",
    "\n",
    "p0_states = df_steps[(df_steps[\"player_position\"] == 0) & (df_steps[\"ante-flag\"] == 0)]\n",
    "p1_states = df_steps[(df_steps[\"player_position\"] == 1) & (df_steps[\"ante-flag\"] == 0)]\n",
    "#state:\n",
    "#action x cards = [round, player, (raising round, action, size_to, ante-flag), (rank, suit)]"
   ]
  },
  {
   "cell_type": "code",
   "execution_count": 20,
   "metadata": {
    "collapsed": false,
    "scrolled": true
   },
   "outputs": [
    {
     "data": {
      "text/html": [
       "<div>\n",
       "<table border=\"1\" class=\"dataframe\">\n",
       "  <thead>\n",
       "    <tr style=\"text-align: right;\">\n",
       "      <th></th>\n",
       "      <th>bet round</th>\n",
       "      <th>player_position</th>\n",
       "      <th>raising round</th>\n",
       "      <th>action</th>\n",
       "      <th>size_to</th>\n",
       "      <th>ante-flag</th>\n",
       "    </tr>\n",
       "  </thead>\n",
       "  <tbody>\n",
       "    <tr>\n",
       "      <th>4</th>\n",
       "      <td>0</td>\n",
       "      <td>0</td>\n",
       "      <td>2</td>\n",
       "      <td>c</td>\n",
       "      <td>200</td>\n",
       "      <td>0</td>\n",
       "    </tr>\n",
       "    <tr>\n",
       "      <th>5</th>\n",
       "      <td>1</td>\n",
       "      <td>0</td>\n",
       "      <td>0</td>\n",
       "      <td>r</td>\n",
       "      <td>400</td>\n",
       "      <td>0</td>\n",
       "    </tr>\n",
       "    <tr>\n",
       "      <th>7</th>\n",
       "      <td>2</td>\n",
       "      <td>0</td>\n",
       "      <td>0</td>\n",
       "      <td>r</td>\n",
       "      <td>1200</td>\n",
       "      <td>0</td>\n",
       "    </tr>\n",
       "    <tr>\n",
       "      <th>9</th>\n",
       "      <td>3</td>\n",
       "      <td>0</td>\n",
       "      <td>0</td>\n",
       "      <td>r</td>\n",
       "      <td>20000</td>\n",
       "      <td>0</td>\n",
       "    </tr>\n",
       "  </tbody>\n",
       "</table>\n",
       "</div>"
      ],
      "text/plain": [
       "   bet round  player_position  raising round action  size_to  ante-flag\n",
       "4          0                0              2      c      200          0\n",
       "5          1                0              0      r      400          0\n",
       "7          2                0              0      r     1200          0\n",
       "9          3                0              0      r    20000          0"
      ]
     },
     "execution_count": 20,
     "metadata": {},
     "output_type": "execute_result"
    }
   ],
   "source": [
    "p0_states"
   ]
  },
  {
   "cell_type": "code",
   "execution_count": 21,
   "metadata": {
    "collapsed": false
   },
   "outputs": [
    {
     "name": "stdout",
     "output_type": "stream",
     "text": [
      "   bet round  player_position  raising round action  size_to  ante-flag\n",
      "0          0                0              0      c        0          1\n",
      "1          0                1              0      r       50          1\n",
      "2          0                1              1      r      100          1\n",
      "3          0                1              1      r      200          0\n",
      "4          0                0              2      c      200          0\n",
      "5          1                0              0      r      400          0\n",
      "6          1                1              0      c      400          0\n",
      "   bet round  player_position  rank  suit\n",
      "0          0                0     4     2\n",
      "1          0                0     0     2\n",
      "4          1               -1    12     1\n",
      "5          1               -1    10     1\n",
      "6          1               -1     9     1\n",
      "7          2               -1     8     0\n"
     ]
    }
   ],
   "source": [
    "idx = 2\n",
    "player_pos = 0\n",
    "current_step = p0_states.iloc[idx].name\n",
    "current_round = p0_states.iloc[idx][\"bet round\"]\n",
    "known_actions = df_steps[df_steps.index < current_step]\n",
    "known_cards = df_cards[((df_cards[\"player_position\"] == -1) | (df_cards[\"player_position\"] == player_pos)) \\\n",
    "                       & (df_cards[\"bet round\"] <= current_round)]\n",
    "\n",
    "print(known_actions)\n",
    "print(known_cards)"
   ]
  },
  {
   "cell_type": "code",
   "execution_count": 22,
   "metadata": {
    "collapsed": false
   },
   "outputs": [
    {
     "data": {
      "text/html": [
       "<div>\n",
       "<table border=\"1\" class=\"dataframe\">\n",
       "  <thead>\n",
       "    <tr style=\"text-align: right;\">\n",
       "      <th></th>\n",
       "      <th>action</th>\n",
       "      <th>ante-flag</th>\n",
       "      <th>bet round</th>\n",
       "      <th>player_position</th>\n",
       "      <th>raising round</th>\n",
       "      <th>rank</th>\n",
       "      <th>size_to</th>\n",
       "      <th>suit</th>\n",
       "    </tr>\n",
       "  </thead>\n",
       "  <tbody>\n",
       "    <tr>\n",
       "      <th>0</th>\n",
       "      <td>c</td>\n",
       "      <td>1.0</td>\n",
       "      <td>0</td>\n",
       "      <td>0</td>\n",
       "      <td>0.0</td>\n",
       "      <td>NaN</td>\n",
       "      <td>0.0</td>\n",
       "      <td>NaN</td>\n",
       "    </tr>\n",
       "    <tr>\n",
       "      <th>1</th>\n",
       "      <td>r</td>\n",
       "      <td>1.0</td>\n",
       "      <td>0</td>\n",
       "      <td>1</td>\n",
       "      <td>0.0</td>\n",
       "      <td>NaN</td>\n",
       "      <td>50.0</td>\n",
       "      <td>NaN</td>\n",
       "    </tr>\n",
       "    <tr>\n",
       "      <th>2</th>\n",
       "      <td>r</td>\n",
       "      <td>1.0</td>\n",
       "      <td>0</td>\n",
       "      <td>1</td>\n",
       "      <td>1.0</td>\n",
       "      <td>NaN</td>\n",
       "      <td>100.0</td>\n",
       "      <td>NaN</td>\n",
       "    </tr>\n",
       "    <tr>\n",
       "      <th>3</th>\n",
       "      <td>r</td>\n",
       "      <td>0.0</td>\n",
       "      <td>0</td>\n",
       "      <td>1</td>\n",
       "      <td>1.0</td>\n",
       "      <td>NaN</td>\n",
       "      <td>200.0</td>\n",
       "      <td>NaN</td>\n",
       "    </tr>\n",
       "    <tr>\n",
       "      <th>4</th>\n",
       "      <td>c</td>\n",
       "      <td>0.0</td>\n",
       "      <td>0</td>\n",
       "      <td>0</td>\n",
       "      <td>2.0</td>\n",
       "      <td>NaN</td>\n",
       "      <td>200.0</td>\n",
       "      <td>NaN</td>\n",
       "    </tr>\n",
       "    <tr>\n",
       "      <th>5</th>\n",
       "      <td>r</td>\n",
       "      <td>0.0</td>\n",
       "      <td>1</td>\n",
       "      <td>0</td>\n",
       "      <td>0.0</td>\n",
       "      <td>NaN</td>\n",
       "      <td>400.0</td>\n",
       "      <td>NaN</td>\n",
       "    </tr>\n",
       "    <tr>\n",
       "      <th>6</th>\n",
       "      <td>c</td>\n",
       "      <td>0.0</td>\n",
       "      <td>1</td>\n",
       "      <td>1</td>\n",
       "      <td>0.0</td>\n",
       "      <td>NaN</td>\n",
       "      <td>400.0</td>\n",
       "      <td>NaN</td>\n",
       "    </tr>\n",
       "    <tr>\n",
       "      <th>0</th>\n",
       "      <td>NaN</td>\n",
       "      <td>NaN</td>\n",
       "      <td>0</td>\n",
       "      <td>0</td>\n",
       "      <td>NaN</td>\n",
       "      <td>4.0</td>\n",
       "      <td>NaN</td>\n",
       "      <td>2.0</td>\n",
       "    </tr>\n",
       "    <tr>\n",
       "      <th>1</th>\n",
       "      <td>NaN</td>\n",
       "      <td>NaN</td>\n",
       "      <td>0</td>\n",
       "      <td>0</td>\n",
       "      <td>NaN</td>\n",
       "      <td>0.0</td>\n",
       "      <td>NaN</td>\n",
       "      <td>2.0</td>\n",
       "    </tr>\n",
       "    <tr>\n",
       "      <th>4</th>\n",
       "      <td>NaN</td>\n",
       "      <td>NaN</td>\n",
       "      <td>1</td>\n",
       "      <td>-1</td>\n",
       "      <td>NaN</td>\n",
       "      <td>12.0</td>\n",
       "      <td>NaN</td>\n",
       "      <td>1.0</td>\n",
       "    </tr>\n",
       "    <tr>\n",
       "      <th>5</th>\n",
       "      <td>NaN</td>\n",
       "      <td>NaN</td>\n",
       "      <td>1</td>\n",
       "      <td>-1</td>\n",
       "      <td>NaN</td>\n",
       "      <td>10.0</td>\n",
       "      <td>NaN</td>\n",
       "      <td>1.0</td>\n",
       "    </tr>\n",
       "    <tr>\n",
       "      <th>6</th>\n",
       "      <td>NaN</td>\n",
       "      <td>NaN</td>\n",
       "      <td>1</td>\n",
       "      <td>-1</td>\n",
       "      <td>NaN</td>\n",
       "      <td>9.0</td>\n",
       "      <td>NaN</td>\n",
       "      <td>1.0</td>\n",
       "    </tr>\n",
       "    <tr>\n",
       "      <th>7</th>\n",
       "      <td>NaN</td>\n",
       "      <td>NaN</td>\n",
       "      <td>2</td>\n",
       "      <td>-1</td>\n",
       "      <td>NaN</td>\n",
       "      <td>8.0</td>\n",
       "      <td>NaN</td>\n",
       "      <td>0.0</td>\n",
       "    </tr>\n",
       "  </tbody>\n",
       "</table>\n",
       "</div>"
      ],
      "text/plain": [
       "  action  ante-flag  bet round  player_position  raising round  rank  size_to  \\\n",
       "0      c        1.0          0                0            0.0   NaN      0.0   \n",
       "1      r        1.0          0                1            0.0   NaN     50.0   \n",
       "2      r        1.0          0                1            1.0   NaN    100.0   \n",
       "3      r        0.0          0                1            1.0   NaN    200.0   \n",
       "4      c        0.0          0                0            2.0   NaN    200.0   \n",
       "5      r        0.0          1                0            0.0   NaN    400.0   \n",
       "6      c        0.0          1                1            0.0   NaN    400.0   \n",
       "0    NaN        NaN          0                0            NaN   4.0      NaN   \n",
       "1    NaN        NaN          0                0            NaN   0.0      NaN   \n",
       "4    NaN        NaN          1               -1            NaN  12.0      NaN   \n",
       "5    NaN        NaN          1               -1            NaN  10.0      NaN   \n",
       "6    NaN        NaN          1               -1            NaN   9.0      NaN   \n",
       "7    NaN        NaN          2               -1            NaN   8.0      NaN   \n",
       "\n",
       "   suit  \n",
       "0   NaN  \n",
       "1   NaN  \n",
       "2   NaN  \n",
       "3   NaN  \n",
       "4   NaN  \n",
       "5   NaN  \n",
       "6   NaN  \n",
       "0   2.0  \n",
       "1   2.0  \n",
       "4   1.0  \n",
       "5   1.0  \n",
       "6   1.0  \n",
       "7   0.0  "
      ]
     },
     "execution_count": 22,
     "metadata": {},
     "output_type": "execute_result"
    }
   ],
   "source": [
    "pd.concat([known_actions, known_cards], axis = 0)"
   ]
  },
  {
   "cell_type": "code",
   "execution_count": 23,
   "metadata": {
    "collapsed": true
   },
   "outputs": [],
   "source": [
    "#[row of bet round, player , [states]]\n",
    "#a =[  [ \"row 1\" , [\"state1\",\"state2\",\"state 3\"]] , [ \"row 2\" , [\"state 1_1\", \"state 1_2\", \"state 1_3\"] ] ]"
   ]
  },
  {
   "cell_type": "code",
   "execution_count": 24,
   "metadata": {
    "collapsed": true
   },
   "outputs": [],
   "source": [
    "def create_state_array(stepList, cardList):\n",
    "    \n",
    "    df_steps = pd.DataFrame(stepList, columns = [\"bet round\", \"player_position\",\\\n",
    "                                               \"raising round\", \"action\", \"size_to\", \"ante-flag\"])\n",
    "    df_cards = pd.DataFrame(cardList, columns=[\"bet round\", \"player_position\", \"rank\", \"suit\"])\n",
    "    num_steps = df_steps[df_steps[\"ante-flag\"]==0][\"ante-flag\"].count()\n",
    "    num_players = df_steps.player_position.max() + 1\n",
    "    \n",
    "    player_pos = 0\n",
    "    reward_to = 0\n",
    "    arr = []\n",
    "    num_steps = len(df_steps)\n",
    "    #can I make the states an array with dimensions: [bet round, player, [action: raise round, action, size_to, ante-flag],\n",
    "    # and [cards: rank,suit]]?\n",
    "    for step in range(3, num_steps):\n",
    "        player_pos = df_steps.iloc[step, 1]\n",
    "        bet_round = df_steps.iloc[step,0]\n",
    "        known_actions = df_steps[df_steps.index < current_step]\n",
    "        known_cards = df_cards[((df_cards[\"player_position\"] == -1) | (df_cards[\"player_position\"] == player_pos)) \\\n",
    "                       & (df_cards[\"bet round\"] <= current_round)]\n",
    "        done = step == num_steps - 1\n",
    "        arr.append([player_pos, bet_round, [known_actions, known_cards], reward_to, df_steps.iloc[step], done]) #TODO: figure out reward\n",
    "\n",
    "    return arr #[player, [(state1, reward_transitioning_to, action, done)]]\n",
    "    "
   ]
  },
  {
   "cell_type": "code",
   "execution_count": 25,
   "metadata": {
    "collapsed": false
   },
   "outputs": [],
   "source": [
    "cardList = hand_log[\"Cards\"][0]\n",
    "stepList = hand_log[\"Steps\"][0]\n",
    "\n",
    "arr = create_state_array(stepList, cardList)"
   ]
  },
  {
   "cell_type": "code",
   "execution_count": 26,
   "metadata": {
    "collapsed": false
   },
   "outputs": [],
   "source": [
    "npArr = np.array(arr)"
   ]
  },
  {
   "cell_type": "code",
   "execution_count": 27,
   "metadata": {
    "collapsed": false
   },
   "outputs": [
    {
     "name": "stdout",
     "output_type": "stream",
     "text": [
      "array([[1, 0,\n",
      "        list([   bet round  player_position  raising round action  size_to  ante-flag\n",
      "0          0                0              0      c        0          1\n",
      "1          0                1              0      r       50          1\n",
      "2          0                1              1      r      100          1\n",
      "3          0                1              1      r      200          0\n",
      "4          0                0              2      c      200          0\n",
      "5          1                0              0      r      400          0\n",
      "6          1                1              0      c      400          0,    bet round  player_position  rank  suit\n",
      "2          0                1     1     0\n",
      "3          0                1     2     2\n",
      "4          1               -1    12     1\n",
      "5          1               -1    10     1\n",
      "6          1               -1     9     1\n",
      "7          2               -1     8     0]),\n",
      "        0,\n",
      "        bet round            0\n",
      "player_position      1\n",
      "raising round        1\n",
      "action               r\n",
      "size_to            200\n",
      "ante-flag            0\n",
      "Name: 3, dtype: object,\n",
      "        False],\n",
      "       [0, 0,\n",
      "        list([   bet round  player_position  raising round action  size_to  ante-flag\n",
      "0          0                0              0      c        0          1\n",
      "1          0                1              0      r       50          1\n",
      "2          0                1              1      r      100          1\n",
      "3          0                1              1      r      200          0\n",
      "4          0                0              2      c      200          0\n",
      "5          1                0              0      r      400          0\n",
      "6          1                1              0      c      400          0,    bet round  player_position  rank  suit\n",
      "0          0                0     4     2\n",
      "1          0                0     0     2\n",
      "4          1               -1    12     1\n",
      "5          1               -1    10     1\n",
      "6          1               -1     9     1\n",
      "7          2               -1     8     0]),\n",
      "        0,\n",
      "        bet round            0\n",
      "player_position      0\n",
      "raising round        2\n",
      "action               c\n",
      "size_to            200\n",
      "ante-flag            0\n",
      "Name: 4, dtype: object,\n",
      "        False],\n",
      "       [0, 1,\n",
      "        list([   bet round  player_position  raising round action  size_to  ante-flag\n",
      "0          0                0              0      c        0          1\n",
      "1          0                1              0      r       50          1\n",
      "2          0                1              1      r      100          1\n",
      "3          0                1              1      r      200          0\n",
      "4          0                0              2      c      200          0\n",
      "5          1                0              0      r      400          0\n",
      "6          1                1              0      c      400          0,    bet round  player_position  rank  suit\n",
      "0          0                0     4     2\n",
      "1          0                0     0     2\n",
      "4          1               -1    12     1\n",
      "5          1               -1    10     1\n",
      "6          1               -1     9     1\n",
      "7          2               -1     8     0]),\n",
      "        0,\n",
      "        bet round            1\n",
      "player_position      0\n",
      "raising round        0\n",
      "action               r\n",
      "size_to            400\n",
      "ante-flag            0\n",
      "Name: 5, dtype: object,\n",
      "        False],\n",
      "       [1, 1,\n",
      "        list([   bet round  player_position  raising round action  size_to  ante-flag\n",
      "0          0                0              0      c        0          1\n",
      "1          0                1              0      r       50          1\n",
      "2          0                1              1      r      100          1\n",
      "3          0                1              1      r      200          0\n",
      "4          0                0              2      c      200          0\n",
      "5          1                0              0      r      400          0\n",
      "6          1                1              0      c      400          0,    bet round  player_position  rank  suit\n",
      "2          0                1     1     0\n",
      "3          0                1     2     2\n",
      "4          1               -1    12     1\n",
      "5          1               -1    10     1\n",
      "6          1               -1     9     1\n",
      "7          2               -1     8     0]),\n",
      "        0,\n",
      "        bet round            1\n",
      "player_position      1\n",
      "raising round        0\n",
      "action               c\n",
      "size_to            400\n",
      "ante-flag            0\n",
      "Name: 6, dtype: object,\n",
      "        False],\n",
      "       [0, 2,\n",
      "        list([   bet round  player_position  raising round action  size_to  ante-flag\n",
      "0          0                0              0      c        0          1\n",
      "1          0                1              0      r       50          1\n",
      "2          0                1              1      r      100          1\n",
      "3          0                1              1      r      200          0\n",
      "4          0                0              2      c      200          0\n",
      "5          1                0              0      r      400          0\n",
      "6          1                1              0      c      400          0,    bet round  player_position  rank  suit\n",
      "0          0                0     4     2\n",
      "1          0                0     0     2\n",
      "4          1               -1    12     1\n",
      "5          1               -1    10     1\n",
      "6          1               -1     9     1\n",
      "7          2               -1     8     0]),\n",
      "        0,\n",
      "        bet round             2\n",
      "player_position       0\n",
      "raising round         0\n",
      "action                r\n",
      "size_to            1200\n",
      "ante-flag             0\n",
      "Name: 7, dtype: object,\n",
      "        False],\n",
      "       [1, 2,\n",
      "        list([   bet round  player_position  raising round action  size_to  ante-flag\n",
      "0          0                0              0      c        0          1\n",
      "1          0                1              0      r       50          1\n",
      "2          0                1              1      r      100          1\n",
      "3          0                1              1      r      200          0\n",
      "4          0                0              2      c      200          0\n",
      "5          1                0              0      r      400          0\n",
      "6          1                1              0      c      400          0,    bet round  player_position  rank  suit\n",
      "2          0                1     1     0\n",
      "3          0                1     2     2\n",
      "4          1               -1    12     1\n",
      "5          1               -1    10     1\n",
      "6          1               -1     9     1\n",
      "7          2               -1     8     0]),\n",
      "        0,\n",
      "        bet round             2\n",
      "player_position       1\n",
      "raising round         0\n",
      "action                c\n",
      "size_to            1200\n",
      "ante-flag             0\n",
      "Name: 8, dtype: object,\n",
      "        False],\n",
      "       [0, 3,\n",
      "        list([   bet round  player_position  raising round action  size_to  ante-flag\n",
      "0          0                0              0      c        0          1\n",
      "1          0                1              0      r       50          1\n",
      "2          0                1              1      r      100          1\n",
      "3          0                1              1      r      200          0\n",
      "4          0                0              2      c      200          0\n",
      "5          1                0              0      r      400          0\n",
      "6          1                1              0      c      400          0,    bet round  player_position  rank  suit\n",
      "0          0                0     4     2\n",
      "1          0                0     0     2\n",
      "4          1               -1    12     1\n",
      "5          1               -1    10     1\n",
      "6          1               -1     9     1\n",
      "7          2               -1     8     0]),\n",
      "        0,\n",
      "        bet round              3\n",
      "player_position        0\n",
      "raising round          0\n",
      "action                 r\n",
      "size_to            20000\n",
      "ante-flag              0\n",
      "Name: 9, dtype: object,\n",
      "        False],\n",
      "       [1, 3,\n",
      "        list([   bet round  player_position  raising round action  size_to  ante-flag\n",
      "0          0                0              0      c        0          1\n",
      "1          0                1              0      r       50          1\n",
      "2          0                1              1      r      100          1\n",
      "3          0                1              1      r      200          0\n",
      "4          0                0              2      c      200          0\n",
      "5          1                0              0      r      400          0\n",
      "6          1                1              0      c      400          0,    bet round  player_position  rank  suit\n",
      "2          0                1     1     0\n",
      "3          0                1     2     2\n",
      "4          1               -1    12     1\n",
      "5          1               -1    10     1\n",
      "6          1               -1     9     1\n",
      "7          2               -1     8     0]),\n",
      "        0,\n",
      "        bet round              3\n",
      "player_position        1\n",
      "raising round          0\n",
      "action                 c\n",
      "size_to            20000\n",
      "ante-flag              0\n",
      "Name: 10, dtype: object,\n",
      "        True]], dtype=object)\n"
     ]
    }
   ],
   "source": [
    "import pprint as pp\n",
    "pp.pprint(npArr)"
   ]
  },
  {
   "cell_type": "code",
   "execution_count": 28,
   "metadata": {
    "collapsed": false
   },
   "outputs": [
    {
     "data": {
      "text/plain": [
       "array([[0L, 0L, 0L, 'c', 0L, 1L],\n",
       "       [0L, 1L, 0L, 'r', 50L, 1L],\n",
       "       [0L, 1L, 1L, 'r', 100L, 1L],\n",
       "       [0L, 1L, 1L, 'r', 200L, 0L],\n",
       "       [0L, 0L, 2L, 'c', 200L, 0L],\n",
       "       [1L, 0L, 0L, 'r', 400L, 0L],\n",
       "       [1L, 1L, 0L, 'c', 400L, 0L]], dtype=object)"
      ]
     },
     "execution_count": 28,
     "metadata": {},
     "output_type": "execute_result"
    }
   ],
   "source": [
    "np.array(npArr[0][2][0]) #bet state: bet round, player_position, raising round, action, size_to, ante-flag"
   ]
  },
  {
   "cell_type": "code",
   "execution_count": 29,
   "metadata": {
    "collapsed": false
   },
   "outputs": [
    {
     "data": {
      "text/plain": [
       "array([[ 0,  1,  1,  0],\n",
       "       [ 0,  1,  2,  2],\n",
       "       [ 1, -1, 12,  1],\n",
       "       [ 1, -1, 10,  1],\n",
       "       [ 1, -1,  9,  1],\n",
       "       [ 2, -1,  8,  0]], dtype=int64)"
      ]
     },
     "execution_count": 29,
     "metadata": {},
     "output_type": "execute_result"
    }
   ],
   "source": [
    "np.array(npArr[0][2][1]) #card state: bet round  player_position  rank  suit"
   ]
  },
  {
   "cell_type": "code",
   "execution_count": 30,
   "metadata": {
    "collapsed": false
   },
   "outputs": [
    {
     "data": {
      "text/plain": [
       "0"
      ]
     },
     "execution_count": 30,
     "metadata": {},
     "output_type": "execute_result"
    }
   ],
   "source": [
    "npArr[0][3] #reward - NEED TO FIX"
   ]
  },
  {
   "cell_type": "code",
   "execution_count": 31,
   "metadata": {
    "collapsed": false
   },
   "outputs": [
    {
     "data": {
      "text/plain": [
       "bet round            0\n",
       "player_position      1\n",
       "raising round        1\n",
       "action               r\n",
       "size_to            200\n",
       "ante-flag            0\n",
       "Name: 3, dtype: object"
      ]
     },
     "execution_count": 31,
     "metadata": {},
     "output_type": "execute_result"
    }
   ],
   "source": [
    "npArr[0][4] #action"
   ]
  },
  {
   "cell_type": "code",
   "execution_count": 32,
   "metadata": {
    "collapsed": false
   },
   "outputs": [
    {
     "data": {
      "text/plain": [
       "False"
      ]
     },
     "execution_count": 32,
     "metadata": {},
     "output_type": "execute_result"
    }
   ],
   "source": [
    "npArr[0][5] #Done or not"
   ]
  },
  {
   "cell_type": "code",
   "execution_count": 33,
   "metadata": {
    "collapsed": true
   },
   "outputs": [],
   "source": [
    "#Ok, now how do we represent the bet and card state?\n",
    "# We have: \n",
    "#- betting rounds (pre-flop, flop, turn, river = 0, 1 ,2 ,3)\n",
    "#   - maximum raises per round (4 so [0, 1, 2 3])\n",
    "#- players (0, 1, -1 for dealer) *until trying multiplayer\n",
    "#   - cards\n",
    "#      - action choice [r, c, f, collapse ante flag to this?]\n",
    "#      - cost, which is negative of (reward - pot won if hand won)\n",
    "#   \n"
   ]
  },
  {
   "cell_type": "code",
   "execution_count": 34,
   "metadata": {
    "collapsed": false
   },
   "outputs": [
    {
     "data": {
      "text/plain": [
       "256"
      ]
     },
     "execution_count": 34,
     "metadata": {},
     "output_type": "execute_result"
    }
   ],
   "source": [
    "2**8 #binary representation of bets?"
   ]
  },
  {
   "cell_type": "code",
   "execution_count": 38,
   "metadata": {
    "collapsed": false
   },
   "outputs": [
    {
     "data": {
      "text/plain": [
       "(4L, 3L, 4L, 13L, 4L, 8L, 8L)"
      ]
     },
     "execution_count": 38,
     "metadata": {},
     "output_type": "execute_result"
    }
   ],
   "source": [
    "betRounds = 4\n",
    "max_raises = 4\n",
    "players = 3 #including community pool - or should I just make that a total pool for each player?\n",
    "action = 4 #including ante flag\n",
    "#cost is continuous - what to do about that?\n",
    "cost = 8 #binary representation of cost - but could I collapse this to one with the action?\n",
    "cards = (4, 13) # suit, rank\n",
    "card_action_placeholders = 3\n",
    "stacks = 8\n",
    "\n",
    "state = np.zeros((betRounds, players, cards[0], cards[1], max_raises, cost, stacks)) #cards , (max_raises, cost/action)\n",
    "state.shape"
   ]
  },
  {
   "cell_type": "code",
   "execution_count": 37,
   "metadata": {
    "collapsed": false
   },
   "outputs": [
    {
     "name": "stdout",
     "output_type": "stream",
     "text": [
      "19968\n",
      "141.308173861\n"
     ]
    }
   ],
   "source": [
    "print(reduce(np.multiply, state.shape))\n",
    "print(np.sqrt(reduce(np.multiply, state.shape)))"
   ]
  },
  {
   "cell_type": "code",
   "execution_count": 51,
   "metadata": {
    "collapsed": false
   },
   "outputs": [
    {
     "name": "stdout",
     "output_type": "stream",
     "text": [
      "hello world\n",
      "[7, 4, 11, 11, 14, 26, 22, 14, 17, 11, 3]\n",
      "[[0, 0, 0, 0, 0, 0, 0, 1, 0, 0, 0, 0, 0, 0, 0, 0, 0, 0, 0, 0, 0, 0, 0, 0, 0, 0, 0], [0, 0, 0, 0, 1, 0, 0, 0, 0, 0, 0, 0, 0, 0, 0, 0, 0, 0, 0, 0, 0, 0, 0, 0, 0, 0, 0], [0, 0, 0, 0, 0, 0, 0, 0, 0, 0, 0, 1, 0, 0, 0, 0, 0, 0, 0, 0, 0, 0, 0, 0, 0, 0, 0], [0, 0, 0, 0, 0, 0, 0, 0, 0, 0, 0, 1, 0, 0, 0, 0, 0, 0, 0, 0, 0, 0, 0, 0, 0, 0, 0], [0, 0, 0, 0, 0, 0, 0, 0, 0, 0, 0, 0, 0, 0, 1, 0, 0, 0, 0, 0, 0, 0, 0, 0, 0, 0, 0], [0, 0, 0, 0, 0, 0, 0, 0, 0, 0, 0, 0, 0, 0, 0, 0, 0, 0, 0, 0, 0, 0, 0, 0, 0, 0, 1], [0, 0, 0, 0, 0, 0, 0, 0, 0, 0, 0, 0, 0, 0, 0, 0, 0, 0, 0, 0, 0, 0, 1, 0, 0, 0, 0], [0, 0, 0, 0, 0, 0, 0, 0, 0, 0, 0, 0, 0, 0, 1, 0, 0, 0, 0, 0, 0, 0, 0, 0, 0, 0, 0], [0, 0, 0, 0, 0, 0, 0, 0, 0, 0, 0, 0, 0, 0, 0, 0, 0, 1, 0, 0, 0, 0, 0, 0, 0, 0, 0], [0, 0, 0, 0, 0, 0, 0, 0, 0, 0, 0, 1, 0, 0, 0, 0, 0, 0, 0, 0, 0, 0, 0, 0, 0, 0, 0], [0, 0, 0, 1, 0, 0, 0, 0, 0, 0, 0, 0, 0, 0, 0, 0, 0, 0, 0, 0, 0, 0, 0, 0, 0, 0, 0]]\n",
      "h\n"
     ]
    }
   ],
   "source": [
    "# from sklearn.preprocessing import LabelEncoder\n",
    "# from sklearn.preprocessing import OneHotEncoder\n",
    "\n",
    "# # define example\n",
    "# data = ['cold', 'cold', 'warm', 'cold', 'hot', 'hot', 'warm', 'cold', 'warm', 'hot']\n",
    "# values = np.array(data)\n",
    "# print(values)\n",
    "# # integer encode\n",
    "# label_encoder = LabelEncoder()\n",
    "# integer_encoded = label_encoder.fit_transform(values)\n",
    "# print(integer_encoded)\n",
    "# # binary encode\n",
    "# onehot_encoder = OneHotEncoder(sparse=False)\n",
    "# integer_encoded = integer_encoded.reshape(len(integer_encoded), 1)\n",
    "# onehot_encoded = onehot_encoder.fit_transform(integer_encoded)\n",
    "# print(onehot_encoded)\n",
    "# # invert first example\n",
    "# inverted = label_encoder.inverse_transform([np.argmax(onehot_encoded[0, :])])\n",
    "# print(inverted)"
   ]
  }
 ],
 "metadata": {
  "kernelspec": {
   "display_name": "Python 2",
   "language": "python",
   "name": "python2"
  }
 },
 "nbformat": 4,
 "nbformat_minor": 2
}
